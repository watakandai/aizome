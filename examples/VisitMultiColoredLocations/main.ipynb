{
 "cells": [
  {
   "cell_type": "code",
   "execution_count": null,
   "metadata": {},
   "outputs": [],
   "source": [
    "import sys\n",
    "from pathlib import Path\n",
    "\n",
    "sys.path.append(str(Path.cwd().parent.parent))"
   ]
  },
  {
   "cell_type": "code",
   "execution_count": null,
   "metadata": {},
   "outputs": [],
   "source": [
    "%load_ext autoreload\n",
    "%autoreload 2\n",
    "\n",
    "import gym_minigrid  # noqa: F401\n",
    "import gymnasium as gym\n",
    "from typing import List\n",
    "from gymnasium.core import ActType\n",
    "import specless as sl\n",
    "from specless.minigrid.tspenv import TSPBenchmarkEnv\n",
    "\n",
    "GYM_MONITOR_LOG_DIR = Path.cwd().joinpath(\".gymlog\")\n",
    "print(str(GYM_MONITOR_LOG_DIR))\n",
    "\n",
    "# gym.pprint_registry()"
   ]
  },
  {
   "cell_type": "code",
   "execution_count": null,
   "metadata": {},
   "outputs": [],
   "source": [
    "ENV_ID = \"MiniGrid-TSPBenchmarkEnv-v0\"\n",
    "env = gym.make(\n",
    "    ENV_ID,\n",
    "    num_locations=5,\n",
    "    width=20,\n",
    "    height=20,\n",
    "    agent_start_pos=(1, 5),\n",
    ")\n",
    "env = sl.MiniGridTransitionSystemWrapper(env)"
   ]
  },
  {
   "cell_type": "code",
   "execution_count": null,
   "metadata": {},
   "outputs": [],
   "source": [
    "##### Convert a Transition System from an OpenAI Gym Environment (env)\n",
    "tsbuilder = sl.TSBuilder()\n",
    "transition_system = tsbuilder(env, \"minigrid\")\n",
    "\n",
    "##### Convert the Transition System to a Traveling Saleseman Problem\n",
    "adapter = sl.TSPBuilder()\n",
    "# TODO - 2: Create a Specification Class with just a list of nodes\n",
    "tsp: sl.TSP = adapter(transition_system)\n",
    "\n",
    "print(tsp)\n",
    "\n",
    "##### Solve the TSP and obtain tours\n",
    "tspsolver = sl.MILPTSPSolver()\n",
    "tours, cost = tspsolver.solve(tsp)\n",
    "\n",
    "print(\"Tours: \", tours)\n",
    "\n",
    "##### Map the tours back onto the OpenAI Gym Environment to obtain a controller(s) (a sequence of actions)\n",
    "# TODO: Inlucd the actions -> strategy conversions into the adapter\n",
    "actions: List[ActType] = [adapter.map_back_to_controls(tour) for tour in tours]\n",
    "if len(actions) == 0:\n",
    "    assert False\n",
    "##### Convert a sequences of actions to a strategy class.\n",
    "if len(actions) == 1:\n",
    "    strategy = sl.PlanStrategy(actions[0])\n",
    "else:\n",
    "    strategy = sl.CombinedStrategy([sl.PlanStrategy(action) for action in actions])"
   ]
  },
  {
   "cell_type": "code",
   "execution_count": null,
   "metadata": {},
   "outputs": [],
   "source": [
    "for obs, states in adapter.obs_to_states.items():\n",
    "    print(obs)\n",
    "    uniques = set()\n",
    "    for state in states:\n",
    "        p, d = state\n",
    "        if p in uniques:\n",
    "            continue\n",
    "        uniques.add(p)\n",
    "        print(f\"\\t{p}\")\n",
    "\n",
    "state, info = env.reset()\n",
    "print(\"Initial State: \", state[\"pos\"], state[\"dir\"])"
   ]
  },
  {
   "cell_type": "code",
   "execution_count": null,
   "metadata": {},
   "outputs": [],
   "source": [
    "env = sl.TerminateIfNoStrategyWrapper(env)"
   ]
  },
  {
   "cell_type": "code",
   "execution_count": null,
   "metadata": {},
   "outputs": [],
   "source": [
    "# TODO: Simply change it to the following using MultiAgentWrapper()\n",
    "# states, actions = sl.simulate(env, strategy)\n",
    "# print(states, actions)\n",
    "\n",
    "# TODO: Implement MultiAgentWrapper\n",
    "# This should hold multiple envs.\n",
    "if isinstance(strategy, sl.CombinedStrategy):\n",
    "    for i, s in enumerate(strategy.strategies):\n",
    "        print(f\"Agent {i+1}: \")\n",
    "        states, actions = sl.simulate(env, s)\n",
    "        obs = [s[\"observation\"] for s in states]\n",
    "        pos = [s[\"pos\"] for s in states]\n",
    "        states = [(s[\"pos\"], s[\"dir\"], s[\"observation\"]) for s in states]\n",
    "        print(\"\\t\\n\".join(map(str, states)))\n",
    "else:\n",
    "    states, actions = sl.simulate(env, strategy)\n",
    "    print(states, actions)"
   ]
  },
  {
   "cell_type": "code",
   "execution_count": null,
   "metadata": {},
   "outputs": [],
   "source": []
  }
 ],
 "metadata": {
  "kernelspec": {
   "display_name": "Python 3",
   "language": "python",
   "name": "python3"
  },
  "language_info": {
   "codemirror_mode": {
    "name": "ipython",
    "version": 3
   },
   "file_extension": ".py",
   "mimetype": "text/x-python",
   "name": "python",
   "nbconvert_exporter": "python",
   "pygments_lexer": "ipython3",
   "version": "3.11.4"
  }
 },
 "nbformat": 4,
 "nbformat_minor": 2
}
