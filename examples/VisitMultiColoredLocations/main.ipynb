{
 "cells": [
  {
   "cell_type": "code",
   "execution_count": 2,
   "metadata": {},
   "outputs": [],
   "source": [
    "import sys\n",
    "from pathlib import Path\n",
    "\n",
    "sys.path.append(str(Path.cwd().parent.parent))"
   ]
  },
  {
   "cell_type": "code",
   "execution_count": 3,
   "metadata": {},
   "outputs": [
    {
     "name": "stdout",
     "output_type": "stream",
     "text": [
      "/Users/kandai/Documents/projects/dev/specless/examples/VisitMultiColoredLocations/.log\n"
     ]
    }
   ],
   "source": [
    "%load_ext autoreload\n",
    "%autoreload 2\n",
    "from typing import List\n",
    "\n",
    "import gym_minigrid  # noqa: F401\n",
    "import gymnasium as gym\n",
    "\n",
    "import matplotlib.pyplot as plt\n",
    "from IPython.display import Video\n",
    "\n",
    "\n",
    "import specless as sl\n",
    "from specless.minigrid.tspenv import TSPBenchmarkEnv\n",
    "\n",
    "LOG_DIR = Path.cwd().joinpath(\".log\")\n",
    "print(str(LOG_DIR))"
   ]
  },
  {
   "cell_type": "code",
   "execution_count": 6,
   "metadata": {},
   "outputs": [
    {
     "name": "stdout",
     "output_type": "stream",
     "text": [
      "left\n",
      "right\n",
      "forward\n",
      "pickup\n",
      "drop\n",
      "toggle\n",
      "done\n"
     ]
    },
    {
     "name": "stderr",
     "output_type": "stream",
     "text": [
      "/usr/local/lib/python3.11/site-packages/gymnasium/core.py:311: UserWarning: \u001b[33mWARN: env.actions to get variables from other wrappers is deprecated and will be removed in v1.0, to get this variable you can do `env.unwrapped.actions` for environment variables or `env.get_wrapper_attr('actions')` that will search the reminding wrappers.\u001b[0m\n",
      "  logger.warn(\n",
      "/usr/local/lib/python3.11/site-packages/gymnasium/utils/passive_env_checker.py:159: UserWarning: \u001b[33mWARN: The obs returned by the `reset()` method is not within the observation space.\u001b[0m\n",
      "  logger.warn(f\"{pre} is not within the observation space.\")\n"
     ]
    },
    {
     "data": {
      "image/png": "[encoded data removed]",
      "text/plain": [
       "<Figure size 640x480 with 1 Axes>"
      ]
     },
     "metadata": {},
     "output_type": "display_data"
    }
   ],
   "source": [
    "ENV_ID = \"MiniGrid-TSPBenchmarkEnv-v0\"\n",
    "env = gym.make(\n",
    "    ENV_ID,\n",
    "    num_locations=50,\n",
    "    width=30,\n",
    "    height=30,\n",
    "    agent_start_pos=(1, 5),\n",
    "    render_mode=\"rgb_array\",\n",
    ")\n",
    "for action in env.actions:\n",
    "    print(action.name)\n",
    "env.reset()\n",
    "plt.imshow(env.render())\n",
    "plt.axis(\"off\")\n",
    "plt.show()"
   ]
  },
  {
   "cell_type": "markdown",
   "metadata": {},
   "source": [
    "# MiniGrid Trnasition System Wrapper contains\n",
    "-  Action Wrapper (Can change actions)\n",
    "- Label MiniGrid Wrapper (add label to the state observation)\n",
    "- Add PosDir To MiniGrid Wrapper (add position and direction to the state observation)"
   ]
  },
  {
   "cell_type": "code",
   "execution_count": 4,
   "metadata": {},
   "outputs": [
    {
     "name": "stdout",
     "output_type": "stream",
     "text": [
      "north\n",
      "south\n",
      "east\n",
      "west\n"
     ]
    }
   ],
   "source": [
    "env = sl.MiniGridTransitionSystemWrapper(env, ignore_direction=True)\n",
    "\n",
    "for action in env.actions:\n",
    "    print(action.name)"
   ]
  },
  {
   "cell_type": "code",
   "execution_count": 5,
   "metadata": {},
   "outputs": [
    {
     "name": "stdout",
     "output_type": "stream",
     "text": [
      "Set parameter Username\n",
      "Academic license - for non-commercial use only - expires 2025-02-14\n",
      "edges[0,2]: 1.0\n",
      "edges[0,4]: 1.0\n",
      "edges[0,5]: 1.0\n",
      "edges[1,0]: 1.0\n",
      "edges[2,0]: 1.0\n",
      "edges[3,1]: 1.0\n",
      "edges[4,3]: 1.0\n",
      "edges[5,0]: 1.0\n",
      "times[1]: 42.0\n",
      "times[2]: 21.0\n",
      "times[3]: 30.0\n",
      "times[4]: 28.0\n",
      "times[5]: 26.0\n",
      "timesTerminal[0,0]: 52.0\n",
      "timesTerminal[1,0]: 52.0\n",
      "timesTerminal[2,0]: 52.0\n",
      "tFinal: 52.0\n",
      "Total matching score: 51.999999999999986\n"
     ]
    }
   ],
   "source": [
    "algorithm = sl.TSPSynthesisAlgorithm()\n",
    "strategy = algorithm.synthesize(env, None, num_agent=1)"
   ]
  },
  {
   "cell_type": "code",
   "execution_count": 6,
   "metadata": {},
   "outputs": [],
   "source": [
    "# env = sl.MiniGridTransitionSystemWrapper(env)\n",
    "#\n",
    "# ##### Convert a Transition System from an OpenAI Gym Environment (env)\n",
    "# tsbuilder = sl.TSBuilder()\n",
    "# transition_system = tsbuilder(env)\n",
    "\n",
    "# ##### Convert the Transition System to a Traveling Saleseman Problem\n",
    "# tspbuilder = sl.TSPBuilder()\n",
    "# # TODO - 2: Create a Specification Class with just a list of nodes\n",
    "# tsp: sl.TSP = tspbuilder(transition_system, uniquelabel=False)\n",
    "\n",
    "# print(tsp)\n",
    "\n",
    "# ##### Solve the TSP and obtain tours\n",
    "# tspsolver = sl.MILPTSPSolver()\n",
    "# tours, cost = tspsolver.solve(tsp, num_agent=3)\n",
    "\n",
    "# print(\"Tours: \", tours)\n",
    "\n",
    "# ##### Map the tours back onto the OpenAI Gym Environment to obtain a controller(s) (a sequence of actions)\n",
    "# # TODO: Inlucd the actions -> strategy conversions into the adapter\n",
    "# actions: List[ActType] = [tspbuilder.map_back_to_controls(tour) for tour in tours]\n",
    "\n",
    "# if len(actions) == 0:\n",
    "#     assert False\n",
    "# ##### Convert a sequences of actions to a strategy class.\n",
    "# if len(actions) == 1:\n",
    "#     strategy = sl.PlanStrategy(actions[0])\n",
    "# else:\n",
    "#     strategy = sl.CombinedStrategy([sl.PlanStrategy(action) for action in actions])\n",
    "\n",
    "# for obs, states in tspbuilder.obs_to_states.items():\n",
    "#     print(obs)\n",
    "#     uniques = set()\n",
    "#     for state in states:\n",
    "#         p, d = state\n",
    "#         if p in uniques:\n",
    "#             continue\n",
    "#         uniques.add(p)\n",
    "#         print(f\"\\t{p}\")\n",
    "\n",
    "# state, info = env.reset()\n",
    "# print(\"Initial State: \", state[\"pos\"], state[\"dir\"])"
   ]
  },
  {
   "cell_type": "code",
   "execution_count": 7,
   "metadata": {},
   "outputs": [],
   "source": [
    "env = sl.TerminateIfNoStrategyWrapper(env)"
   ]
  },
  {
   "cell_type": "code",
   "execution_count": 8,
   "metadata": {},
   "outputs": [
    {
     "name": "stdout",
     "output_type": "stream",
     "text": [
      "Agent 1: \n"
     ]
    },
    {
     "name": "stderr",
     "output_type": "stream",
     "text": [
      "/usr/local/lib/python3.11/site-packages/gymnasium/wrappers/record_video.py:94: UserWarning: \u001b[33mWARN: Overwriting existing videos at /Users/kandai/Documents/projects/dev/specless/examples/VisitMultiColoredLocations/.log/0 folder (try specifying a different `video_folder` for the `RecordVideo` wrapper if this is not desired)\u001b[0m\n",
      "  logger.warn(\n"
     ]
    },
    {
     "name": "stdout",
     "output_type": "stream",
     "text": [
      "Moviepy - Building video /Users/kandai/Documents/projects/dev/specless/examples/VisitMultiColoredLocations/.log/0/rl-video-step-0.mp4.\n",
      "Moviepy - Writing video /Users/kandai/Documents/projects/dev/specless/examples/VisitMultiColoredLocations/.log/0/rl-video-step-0.mp4\n",
      "\n"
     ]
    },
    {
     "name": "stderr",
     "output_type": "stream",
     "text": [
      "                                                             \r"
     ]
    },
    {
     "name": "stdout",
     "output_type": "stream",
     "text": [
      "Moviepy - Done !\n",
      "Moviepy - video ready /Users/kandai/Documents/projects/dev/specless/examples/VisitMultiColoredLocations/.log/0/rl-video-step-0.mp4\n",
      "Agent 2: \n"
     ]
    },
    {
     "name": "stderr",
     "output_type": "stream",
     "text": [
      "/usr/local/lib/python3.11/site-packages/gymnasium/wrappers/record_video.py:94: UserWarning: \u001b[33mWARN: Overwriting existing videos at /Users/kandai/Documents/projects/dev/specless/examples/VisitMultiColoredLocations/.log/1 folder (try specifying a different `video_folder` for the `RecordVideo` wrapper if this is not desired)\u001b[0m\n",
      "  logger.warn(\n"
     ]
    },
    {
     "name": "stdout",
     "output_type": "stream",
     "text": [
      "Moviepy - Building video /Users/kandai/Documents/projects/dev/specless/examples/VisitMultiColoredLocations/.log/1/rl-video-step-0.mp4.\n",
      "Moviepy - Writing video /Users/kandai/Documents/projects/dev/specless/examples/VisitMultiColoredLocations/.log/1/rl-video-step-0.mp4\n",
      "\n"
     ]
    },
    {
     "name": "stderr",
     "output_type": "stream",
     "text": [
      "/usr/local/lib/python3.11/site-packages/gymnasium/wrappers/record_video.py:94: UserWarning: \u001b[33mWARN: Overwriting existing videos at /Users/kandai/Documents/projects/dev/specless/examples/VisitMultiColoredLocations/.log/2 folder (try specifying a different `video_folder` for the `RecordVideo` wrapper if this is not desired)\u001b[0m\n",
      "  logger.warn(\n"
     ]
    },
    {
     "name": "stdout",
     "output_type": "stream",
     "text": [
      "Moviepy - Done !\n",
      "Moviepy - video ready /Users/kandai/Documents/projects/dev/specless/examples/VisitMultiColoredLocations/.log/1/rl-video-step-0.mp4\n",
      "Agent 3: \n",
      "Moviepy - Building video /Users/kandai/Documents/projects/dev/specless/examples/VisitMultiColoredLocations/.log/2/rl-video-step-0.mp4.\n",
      "Moviepy - Writing video /Users/kandai/Documents/projects/dev/specless/examples/VisitMultiColoredLocations/.log/2/rl-video-step-0.mp4\n",
      "\n"
     ]
    },
    {
     "name": "stderr",
     "output_type": "stream",
     "text": [
      "                                                             \r"
     ]
    },
    {
     "name": "stdout",
     "output_type": "stream",
     "text": [
      "Moviepy - Done !\n",
      "Moviepy - video ready /Users/kandai/Documents/projects/dev/specless/examples/VisitMultiColoredLocations/.log/2/rl-video-step-0.mp4\n"
     ]
    }
   ],
   "source": [
    "import os\n",
    "\n",
    "# TODO: Simply change it to the following using MultiAgentWrapper()\n",
    "# states, actions = sl.simulate(env, strategy)\n",
    "# print(states, actions)\n",
    "\n",
    "# TODO: Implement MultiAgentWrapper\n",
    "# This should hold multiple envs.\n",
    "if isinstance(strategy, sl.CombinedStrategy):\n",
    "    for i, s in enumerate(strategy.strategies):\n",
    "        print(f\"Agent {i+1}: \")\n",
    "        states, actions, video_path = sl.simulate(\n",
    "            env,\n",
    "            s,\n",
    "            record_video=True,\n",
    "            video_folder=os.path.join(LOG_DIR, str(i)),\n",
    "        )\n",
    "        Video(video_path, embed=True, html_attributes=\"controls muted autoplay loop\")\n",
    "else:\n",
    "    states, actions, video_path = sl.simulate(\n",
    "        env, strategy, record_video=True, video_folder=LOG_DIR\n",
    "    )\n",
    "    Video(video_path, embed=True, html_attributes=\"controls muted autoplay loop\")\n",
    "    print(states, actions)"
   ]
  },
  {
   "cell_type": "code",
   "execution_count": null,
   "metadata": {},
   "outputs": [],
   "source": []
  }
 ],
 "metadata": {
  "kernelspec": {
   "display_name": "Python 3",
   "language": "python",
   "name": "python3"
  },
  "language_info": {
   "codemirror_mode": {
    "name": "ipython",
    "version": 3
   },
   "file_extension": ".py",
   "mimetype": "text/x-python",
   "name": "python",
   "nbconvert_exporter": "python",
   "pygments_lexer": "ipython3",
   "version": "3.11.4"
  }
 },
 "nbformat": 4,
 "nbformat_minor": 2
}
