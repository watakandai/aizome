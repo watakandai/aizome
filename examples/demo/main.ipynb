{
 "cells": [
  {
   "cell_type": "code",
   "execution_count": null,
   "metadata": {},
   "outputs": [],
   "source": [
    "import sys\n",
    "from pathlib import Path\n",
    "\n",
    "sys.path.append(str(Path.cwd().parent.parent))"
   ]
  },
  {
   "cell_type": "code",
   "execution_count": 1,
   "metadata": {},
   "outputs": [
    {
     "name": "stdout",
     "output_type": "stream",
     "text": [
      "/home/specless/examples/demo/.log\n"
     ]
    },
    {
     "name": "stderr",
     "output_type": "stream",
     "text": [
      "/home/specless/.venv/lib/python3.8/site-packages/tqdm/auto.py:21: TqdmWarning: IProgress not found. Please update jupyter and ipywidgets. See https://ipywidgets.readthedocs.io/en/stable/user_install.html\n",
      "  from .autonotebook import tqdm as notebook_tqdm\n"
     ]
    }
   ],
   "source": [
    "%load_ext autoreload\n",
    "%autoreload 2\n",
    "import os\n",
    "from pathlib import Path\n",
    "import gymnasium as gym\n",
    "import matplotlib.pyplot as plt\n",
    "from IPython.display import Video\n",
    "\n",
    "import specless as sl\n",
    "from specless.minigrid.tspenv import TSPEnv  # NOQA\n",
    "\n",
    "LOG_DIR: Path = Path.cwd().joinpath(\".log\")\n",
    "print(str(LOG_DIR))"
   ]
  },
  {
   "cell_type": "code",
   "execution_count": 2,
   "metadata": {},
   "outputs": [
    {
     "name": "stderr",
     "output_type": "stream",
     "text": [
      "/home/specless/.venv/lib/python3.8/site-packages/gymnasium/utils/passive_env_checker.py:159: UserWarning: \u001b[33mWARN: The obs returned by the `reset()` method is not within the observation space.\u001b[0m\n",
      "  logger.warn(f\"{pre} is not within the observation space.\")\n"
     ]
    },
    {
     "data": {
      "image/png": "[encoded data removed]",
      "text/plain": [
       "<Figure size 640x480 with 1 Axes>"
      ]
     },
     "metadata": {},
     "output_type": "display_data"
    }
   ],
   "source": [
    "env = gym.make(\"MiniGrid-TSP-v0\", render_mode=\"rgb_array\", seed=3)\n",
    "env = sl.LabelMiniGridWrapper(env, labelkey=\"label\", skiplist=[\"empty\"])\n",
    "env = sl.SelectStateDataWrapper(env, columns=[\"label\"])\n",
    "\n",
    "env.reset()\n",
    "plt.imshow(env.render())\n",
    "plt.axis(\"off\")\n",
    "plt.show()"
   ]
  },
  {
   "cell_type": "code",
   "execution_count": 3,
   "metadata": {},
   "outputs": [
    {
     "name": "stdout",
     "output_type": "stream",
     "text": [
      "left Actions.left\n",
      "right Actions.right\n",
      "forward Actions.forward\n",
      "pickup Actions.pickup\n",
      "drop Actions.drop\n",
      "toggle Actions.toggle\n",
      "done Actions.done\n"
     ]
    },
    {
     "name": "stderr",
     "output_type": "stream",
     "text": [
      "/home/specless/.venv/lib/python3.8/site-packages/gymnasium/core.py:311: UserWarning: \u001b[33mWARN: env.actions to get variables from other wrappers is deprecated and will be removed in v1.0, to get this variable you can do `env.unwrapped.actions` for environment variables or `env.get_wrapper_attr('actions')` that will search the reminding wrappers.\u001b[0m\n",
      "  logger.warn(\n"
     ]
    }
   ],
   "source": [
    "action_dict = {a.name: a for a in env.actions}\n",
    "for k, v in action_dict.items():\n",
    "    print(k, v)"
   ]
  },
  {
   "cell_type": "code",
   "execution_count": null,
   "metadata": {},
   "outputs": [],
   "source": [
    "demonstrations = []\n",
    "\n",
    "action_strs = [\n",
    "    \"right\",\n",
    "    \"forward\",\n",
    "    \"left\",\n",
    "    \"forward\",\n",
    "    \"forward\",\n",
    "    \"forward\",\n",
    "    \"right\",\n",
    "    \"forward\",\n",
    "    \"forward\",\n",
    "    \"forward\",\n",
    "    \"right\",\n",
    "    \"forward\",\n",
    "]\n",
    "\n",
    "states, actions, video_path = sl.simulate(\n",
    "    env,\n",
    "    [action_dict[a_s] for a_s in action_strs],\n",
    "    add_timestamp=True,\n",
    "    record_video=True,\n",
    "    video_folder=os.path.join(os.getcwd(), \"1\"),\n",
    ")\n",
    "Video(video_path, embed=True, html_attributes=\"controls muted autoplay loop\")\n",
    "demonstrations.append(states)\n",
    "\n",
    "action_strs = [\n",
    "    \"forward\",\n",
    "    \"right\",\n",
    "    \"forward\",\n",
    "    \"forward\",\n",
    "    \"forward\",\n",
    "    \"left\",\n",
    "    \"forward\",\n",
    "    \"forward\",\n",
    "    \"left\",\n",
    "    \"forward\",\n",
    "    \"forward\",\n",
    "]\n",
    "\n",
    "states, actions, video_path = sl.simulate(\n",
    "    env,\n",
    "    [action_dict[a_s] for a_s in action_strs],\n",
    "    add_timestamp=True,\n",
    "    record_video=True,\n",
    "    video_folder=os.path.join(os.getcwd(), \"2\"),\n",
    ")\n",
    "Video(video_path, embed=True, html_attributes=\"controls muted autoplay loop\")\n",
    "demonstrations.append(states)"
   ]
  },
  {
   "cell_type": "code",
   "execution_count": null,
   "metadata": {},
   "outputs": [],
   "source": [
    "print(demonstrations[0])\n",
    "print(demonstrations[1])\n",
    "\n",
    "demonstrations = sl.TPOInferenceAlgorithm.format_timed_traces(demonstrations)\n",
    "\n",
    "print(demonstrations[0])\n",
    "print(demonstrations[1])"
   ]
  },
  {
   "cell_type": "code",
   "execution_count": null,
   "metadata": {},
   "outputs": [],
   "source": [
    "inference = sl.TPOInferenceAlgorithm()\n",
    "columns: list = [\"timestamp\", \"symbol\"]\n",
    "timedtrace_dataset = sl.ArrayDataset(demonstrations, columns)\n",
    "specification: sl.Specification = inference.infer(timedtrace_dataset)\n",
    "\n",
    "filepath = os.path.join(LOG_DIR, \"tpo.png\")\n",
    "sl.draw_graph(specification, filepath)\n",
    "print(specification)"
   ]
  },
  {
   "cell_type": "code",
   "execution_count": null,
   "metadata": {},
   "outputs": [],
   "source": [
    "env = gym.make(\"MiniGrid-TSP-v0\", render_mode=\"rgb_array\", seed=3)\n",
    "env = sl.MiniGridTransitionSystemWrapper(env, ignore_direction=True)\n",
    "env.reset()\n",
    "plt.imshow(env.render())\n",
    "plt.axis(\"off\")\n",
    "plt.show()"
   ]
  },
  {
   "cell_type": "code",
   "execution_count": null,
   "metadata": {},
   "outputs": [],
   "source": [
    "synthesizer = sl.TSPSynthesisAlgorithm()\n",
    "\n",
    "strategy = synthesizer.synthesize(env, specification, num_agent=2)\n",
    "print(strategy)"
   ]
  },
  {
   "cell_type": "code",
   "execution_count": null,
   "metadata": {},
   "outputs": [],
   "source": [
    "for i, s in enumerate(strategy.strategies):\n",
    "    states, actions, video_path = sl.simulate(\n",
    "        env,\n",
    "        s,\n",
    "        record_video=True,\n",
    "        video_folder=os.path.join(LOG_DIR, str(i)),\n",
    "    )\n",
    "\n",
    "    Video(video_path, embed=True, html_attributes=\"controls muted autoplay loop\")"
   ]
  },
  {
   "cell_type": "code",
   "execution_count": null,
   "metadata": {},
   "outputs": [],
   "source": [
    "from specless.automaton.pdfa import PDFA\n",
    "\n",
    "env = gym.make(\"MiniGrid-TSP-v0\", render_mode=\"rgb_array\", seed=3)\n",
    "env = sl.MiniGridTransitionSystemWrapper(\n",
    "    env, ignore_direction=True, skip_observations=[\"unseen\", \"wall\"]\n",
    ")\n",
    "env.reset()\n",
    "plt.imshow(env.render())\n",
    "plt.axis(\"off\")\n",
    "plt.show()\n",
    "\n",
    "pdfabuilder = sl.PDFABuilder()\n",
    "pdfa: PDFA = pdfabuilder(os.path.join(os.getcwd(), \"pdfa.yaml\"))\n",
    "\n",
    "synthesizer = sl.ProductGraphSynthesisAlgorithm()\n",
    "strategy = synthesizer.synthesize(env, pdfa)\n",
    "print(strategy)"
   ]
  },
  {
   "cell_type": "markdown",
   "metadata": {},
   "source": [
    "# More environments\n"
   ]
  },
  {
   "cell_type": "code",
   "execution_count": null,
   "metadata": {},
   "outputs": [],
   "source": [
    "ENV_ID = \"MiniGrid-TSPBenchmarkEnv-v0\"\n",
    "env = gym.make(\n",
    "    ENV_ID,\n",
    "    num_locations=5,\n",
    "    width=30,\n",
    "    height=30,\n",
    "    agent_start_pos=(1, 5),\n",
    "    render_mode=\"rgb_array\",\n",
    ")\n",
    "env = sl.MiniGridTransitionSystemWrapper(env, ignore_direction=True)\n",
    "for action in env.actions:\n",
    "    print(action.name)\n",
    "env.reset()\n",
    "plt.imshow(env.render())\n",
    "plt.axis(\"off\")\n",
    "plt.show()"
   ]
  },
  {
   "cell_type": "code",
   "execution_count": null,
   "metadata": {},
   "outputs": [],
   "source": [
    "algorithm = sl.TSPSynthesisAlgorithm()\n",
    "strategy = algorithm.synthesize(env, None, num_agent=2)\n",
    "\n",
    "# synthesizer = sl.TSPSynthesisAlgorithm()\n",
    "# strategy = synthesizer.synthesize(env, None, num_agent=2)"
   ]
  },
  {
   "cell_type": "code",
   "execution_count": null,
   "metadata": {},
   "outputs": [],
   "source": [
    "for i, s in enumerate(strategy.strategies):\n",
    "    states, actions, video_path = sl.simulate(\n",
    "        env,\n",
    "        s,\n",
    "        record_video=True,\n",
    "        video_folder=os.path.join(LOG_DIR, str(i)),\n",
    "    )\n",
    "\n",
    "    Video(video_path, embed=True, html_attributes=\"controls muted autoplay loop\")"
   ]
  },
  {
   "cell_type": "code",
   "execution_count": null,
   "metadata": {},
   "outputs": [],
   "source": []
  }
 ],
 "metadata": {
  "kernelspec": {
   "display_name": "Python 3",
   "language": "python",
   "name": "python3"
  },
  "language_info": {
   "codemirror_mode": {
    "name": "ipython",
    "version": 3
   },
   "file_extension": ".py",
   "mimetype": "text/x-python",
   "name": "python",
   "nbconvert_exporter": "python",
   "pygments_lexer": "ipython3",
   "version": "3.8.19"
  }
 },
 "nbformat": 4,
 "nbformat_minor": 2
}
